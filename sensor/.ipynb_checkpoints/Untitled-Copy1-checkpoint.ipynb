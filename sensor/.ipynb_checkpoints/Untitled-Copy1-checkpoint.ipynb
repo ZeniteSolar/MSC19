{
 "cells": [
  {
   "cell_type": "code",
   "execution_count": 1,
   "metadata": {
    "ExecuteTime": {
     "end_time": "2019-08-26T13:59:40.874859Z",
     "start_time": "2019-08-26T13:59:40.848462Z"
    }
   },
   "outputs": [],
   "source": [
    "import numpy as np\n",
    "from deap import algorithms\n",
    "from deap import base\n",
    "from deap import creator\n",
    "from deap import tools\n",
    "import random\n",
    "\n",
    "\n",
    "def genetic_algorithm(total_set, nvar, objective_function, ngen=50, mu=20,\n",
    "                      lam=40, cxpb=0.7, mutpb=0.2, tournsize=3,\n",
    "                      verbose=False):\n",
    "    # Creates a new class name set_mod which is based on the standard python\n",
    "    # set. This means set_mod is just like set, with the addion of a fitness\n",
    "    # attribute.\n",
    "    creator.create(\"Fitness\", base.Fitness, weights=(-1.0,))\n",
    "    creator.create(\"Individual\", set, fitness=creator.Fitness)\n",
    "    set_mod = creator.Individual\n",
    "\n",
    "    def random_samp(size):\n",
    "        \"\"\"Function to initlize individual in the population.\"\"\"\n",
    "        return set_mod(random.sample(total_set, size))\n",
    "\n",
    "    def evaluation(individual):\n",
    "        \"\"\"Evaluate the objective function.\"\"\"\n",
    "        return objective_function(list(individual)),\n",
    "\n",
    "    def cxSet(ind1, ind2):\n",
    "        \"\"\"Apply a crossover operation on two sets.\"\"\"\n",
    "        full_set = list(ind1 | ind2)\n",
    "        ind1 = set_mod(random.sample(full_set, nvar))\n",
    "        ind2 = set_mod(random.sample(full_set, nvar))\n",
    "        return ind1, ind2\n",
    "\n",
    "    def mutSet(individual):\n",
    "        \"\"\"Mutation that randomly removes and item and randomly adds an item.\n",
    "        \"\"\"\n",
    "        temp_set = set_mod(random.sample(individual, nvar-1))\n",
    "        set_to_choose = np.array(list(temp_set ^ total_set))\n",
    "        new = random.choice(set_to_choose)\n",
    "        temp_set.add(new)\n",
    "        return temp_set,\n",
    "\n",
    "    toolbox = base.Toolbox()\n",
    "\n",
    "    # set up the population\n",
    "    toolbox.register(\"individual\", random_samp, nvar)\n",
    "    toolbox.register(\"population\", tools.initRepeat, list, toolbox.individual)\n",
    "\n",
    "    # set up the GA functions\n",
    "    toolbox.register(\"evaluate\", evaluation)\n",
    "    toolbox.register(\"mate\", cxSet)\n",
    "    toolbox.register(\"mutate\", mutSet)\n",
    "    # toolbox.register(\"select\", tools.selNSGA2)\n",
    "    toolbox.register(\"select\", tools.selTournament, tournsize=tournsize)\n",
    "\n",
    "    # initialize the population\n",
    "    pop = toolbox.population(n=mu)\n",
    "    hof = tools.ParetoFront()\n",
    "    stats = tools.Statistics(lambda ind: ind.fitness.values)\n",
    "    stats.register(\"avg\", np.mean, axis=0)\n",
    "    stats.register(\"std\", np.std, axis=0)\n",
    "    stats.register(\"min\", np.min, axis=0)\n",
    "    stats.register(\"max\", np.max, axis=0)\n",
    "    # run the GA\n",
    "    algorithms.eaMuPlusLambda(pop, toolbox, mu, lam, cxpb, mutpb, ngen, stats,\n",
    "                              halloffame=hof, verbose=verbose)\n",
    "    return pop, hof, stats"
   ]
  },
  {
   "cell_type": "code",
   "execution_count": 42,
   "metadata": {
    "ExecuteTime": {
     "end_time": "2019-08-26T16:16:21.418593Z",
     "start_time": "2019-08-26T16:16:13.713677Z"
    }
   },
   "outputs": [
    {
     "data": {
      "image/png": "[encoded data removed]",
      "text/plain": [
       "<Figure size 432x288 with 1 Axes>"
      ]
     },
     "metadata": {
      "needs_background": "light"
     },
     "output_type": "display_data"
    },
    {
     "name": "stdout",
     "output_type": "stream",
     "text": [
      "breaks:  [287.]\n"
     ]
    }
   ],
   "source": [
    "import numpy as np\n",
    "import matplotlib.pyplot as plt\n",
    "import pwlf\n",
    "\n",
    "# generate sin wave data\n",
    "n = 100\n",
    "x = np.array(\n",
    "    [   33.01619913,  32.90733248,  33.07592419,  33.15146426,\n",
    "        33.04005198,  32.9620371 ,  33.0163474 ,  33.14329327,\n",
    "        33.32311828,  33.66869515,  33.80872219,  33.85841952,\n",
    "        33.71933818,  33.42553776,  33.66400745,  34.05933486,\n",
    "        34.39001006,  34.51040677,  34.74365114,  36.23344779,\n",
    "        36.24473804,  35.84396345,  37.05952581,  40.37155464,\n",
    "        47.13083511,  54.84694319,  60.51405735,  69.53339404,\n",
    "        76.38727205,  80.91660131,  91.55637486, 105.59449025,\n",
    "       121.37020815, 132.49753878, 143.96631636, 154.95252135,\n",
    "       163.84726806, 176.37869575, 187.91664495, 199.82979375,\n",
    "       215.28766156, 228.87919224, 240.74305878, 258.57612173,\n",
    "       269.85451065, 277.93054873, 287.87395685, 300.3628639 ,\n",
    "       310.94480075, 321.01509768, 332.35970714, 340.01852401,\n",
    "       352.49687467, 368.16488287, 378.24840713, 388.3093978 ,\n",
    "       399.41570113, 409.17272176, 423.05313254, 436.82844176,\n",
    "       450.00635074, 462.06823937, 472.36794405, 484.59253967,\n",
    "       493.48049554, 503.04785626, 518.34942347, 527.65807355,\n",
    "       536.49526995, 551.60742874, 561.45808588, 572.73035913,\n",
    "       587.83842828, 600.17414834, 607.4590189 , 613.92058379,\n",
    "       628.35047469, 638.7158842 , 650.83843688, 668.37427601,\n",
    "       682.01271061, 692.65825918, 704.67403054, 716.27537626,\n",
    "       725.90664317, 735.07517498, 742.22892342, 743.42586882,\n",
    "       744.51403059, 746.41645256, 747.58526688, 748.29923958,\n",
    "       747.74233749, 748.07264618, 748.18493078, 747.25369681,\n",
    "       746.33906709, 745.17412707, 745.4451291 , 745.78600835,\n",
    "       745.9885872 , 746.98782031, 746.51818797, 745.94675054,\n",
    "       745.08114264, 743.6470843 , 744.2551252 , 746.08404389,\n",
    "       746.57518873, 746.82643741, 747.33426353, 747.13978808,\n",
    "       745.8245153 , 743.80859388, 743.61715234, 743.96445415,\n",
    "       743.70775353, 744.28025367, 744.88356855, 745.41426997,\n",
    "       745.97155094, 745.71289322, 746.56488588, 746.37397002,\n",
    "       745.66436211])\n",
    "y = np.array(\n",
    "    [     23.31755693,    23.96713234,    24.47472717,    23.07577481,\n",
    "          22.75164172,    24.81007032,    25.64171058,    22.82114931,\n",
    "          29.44167541,    68.05223607,    92.98846931,   127.38427951,\n",
    "         153.88373592,   183.45246451,   250.20387467,   295.59591062,\n",
    "         352.06318422,   441.12790719,   530.30422345,   609.32083124,\n",
    "         711.81584179,   815.00282664,   916.95717011,  1037.5965993 ,\n",
    "        1213.62200664,  1400.80811385,  1544.40414169,  1754.56329309,\n",
    "        1914.42343824,  2017.63492365,  2276.61663689,  2615.65857677,\n",
    "        2992.87537217,  3254.2717172 ,  3530.12476347,  3779.72686381,\n",
    "        4011.34339381,  4297.36612259,  4570.88089995,  4855.48628418,\n",
    "        5224.04022176,  5536.60400711,  5792.90765556,  6190.03679981,\n",
    "        6446.22198184,  6639.65672744,  6851.48414402,  7118.1269248 ,\n",
    "        7343.75783424,  7581.54972244,  7829.30942067,  8002.27531455,\n",
    "        8270.99881489,  8582.3477717 ,  8784.35588208,  8996.46073905,\n",
    "        9230.37139199,  9429.62687324,  9722.29565547,  9993.63018968,\n",
    "       10248.64230311, 10479.36452019, 10672.96293684, 10908.00236283,\n",
    "       11074.49901777, 11257.07206215, 11555.75180822, 11741.22980275,\n",
    "       11911.26604677, 12203.7709451 , 12390.73355295, 12600.46688008,\n",
    "       12861.74015081, 13073.53847211, 13216.4818258 , 13329.85672066,\n",
    "       13569.07043232, 13749.81025703, 13950.74535157, 14254.82435622,\n",
    "       14476.66232122, 14639.82375359, 14865.68026586, 15059.49778382,\n",
    "       15196.8201726 , 15347.41982951, 15466.42978647, 15489.76276711,\n",
    "       15503.6410548 , 15534.65944775, 15557.24484154, 15570.58900174,\n",
    "       15568.53560301, 15567.79041131, 15573.9049688 , 15554.10788979,\n",
    "       15526.79725827, 15515.99157714, 15524.44944663, 15535.37637356,\n",
    "       15539.3641514 , 15523.77888453, 15516.13909576, 15511.50846321,\n",
    "       15503.4939414 , 15493.01142997, 15511.82652342, 15540.14138041,\n",
    "       15547.98344541, 15550.79048009, 15546.76530969, 15544.67929677,\n",
    "       15533.75123591, 15512.3769322 , 15511.13735916, 15503.94958809,\n",
    "       15494.5690361 , 15504.79118882, 15518.7070205 , 15524.69981964,\n",
    "       15533.57688215, 15536.41579082, 15549.48834064, 15554.22496028,\n",
    "       15541.02678547])\n",
    "\n",
    "# initialize piecewise linear fit with your x and y data\n",
    "my_pwlf = pwlf.PiecewiseLinFit(x, y)\n",
    "\n",
    "number_of_line_segments = 2\n",
    "\n",
    "my_pwlf.use_custom_opt(number_of_line_segments)\n",
    "total_set = set(np.floor(my_pwlf.x_data))\n",
    "# total_set.remove(x.min())\n",
    "# total_set.remove(x.max())\n",
    "pop, hof, stats = genetic_algorithm(total_set, my_pwlf.nVar,\n",
    "                                         my_pwlf.fit_with_breaks_opt, ngen=100,\n",
    "                                         mu=125, lam=250, cxpb=0.7, mutpb=0.2,\n",
    "                                         tournsize=5, verbose=False)\n",
    "ssr = my_pwlf.fit_with_breaks(list(hof[0]))\n",
    "\n",
    "plt.figure()\n",
    "plt.plot(x,y, label='data')\n",
    "# predict\n",
    "xHat = np.linspace(min(x), max(x), num=10000)\n",
    "yHat = my_pwlf.predict(xHat)\n",
    "plt.plot(xHat, yHat, label='predict')\n",
    "plt.legend()\n",
    "plt.show()\n",
    "\n",
    "print('breaks: ', my_pwlf.fit_breaks)"
   ]
  }
 ],
 "metadata": {
  "kernelspec": {
   "display_name": "Python 3",
   "language": "python",
   "name": "python3"
  },
  "language_info": {
   "codemirror_mode": {
    "name": "ipython",
    "version": 3
   },
   "file_extension": ".py",
   "mimetype": "text/x-python",
   "name": "python",
   "nbconvert_exporter": "python",
   "pygments_lexer": "ipython3",
   "version": "3.7.4"
  },
  "varInspector": {
   "cols": {
    "lenName": 16,
    "lenType": 16,
    "lenVar": 40
   },
   "kernels_config": {
    "python": {
     "delete_cmd_postfix": "",
     "delete_cmd_prefix": "del ",
     "library": "var_list.py",
     "varRefreshCmd": "print(var_dic_list())"
    },
    "r": {
     "delete_cmd_postfix": ") ",
     "delete_cmd_prefix": "rm(",
     "library": "var_list.r",
     "varRefreshCmd": "cat(var_dic_list()) "
    }
   },
   "types_to_exclude": [
    "module",
    "function",
    "builtin_function_or_method",
    "instance",
    "_Feature"
   ],
   "window_display": false
  }
 },
 "nbformat": 4,
 "nbformat_minor": 2
}
