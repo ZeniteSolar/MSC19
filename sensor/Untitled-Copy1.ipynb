{
 "cells": [
  {
   "cell_type": "code",
   "execution_count": 3,
   "metadata": {
    "ExecuteTime": {
     "end_time": "2019-08-26T16:20:20.927486Z",
     "start_time": "2019-08-26T16:20:20.897063Z"
    }
   },
   "outputs": [],
   "source": [
    "import numpy as np\n",
    "from deap import algorithms\n",
    "from deap import base\n",
    "from deap import creator\n",
    "from deap import tools\n",
    "import random\n",
    "\n",
    "\n",
    "def genetic_algorithm(total_set, nvar, objective_function, ngen=50, mu=20,\n",
    "                      lam=40, cxpb=0.7, mutpb=0.2, tournsize=3,\n",
    "                      verbose=False):\n",
    "    # Creates a new class name set_mod which is based on the standard python\n",
    "    # set. This means set_mod is just like set, with the addion of a fitness\n",
    "    # attribute.\n",
    "    creator.create(\"Fitness\", base.Fitness, weights=(-1.0,))\n",
    "    creator.create(\"Individual\", set, fitness=creator.Fitness)\n",
    "    set_mod = creator.Individual\n",
    "\n",
    "    def random_samp(size):\n",
    "        \"\"\"Function to initlize individual in the population.\"\"\"\n",
    "        return set_mod(random.sample(total_set, size))\n",
    "\n",
    "    def evaluation(individual):\n",
    "        \"\"\"Evaluate the objective function.\"\"\"\n",
    "        return objective_function(list(individual)),\n",
    "\n",
    "    def cxSet(ind1, ind2):\n",
    "        \"\"\"Apply a crossover operation on two sets.\"\"\"\n",
    "        full_set = list(ind1 | ind2)\n",
    "        ind1 = set_mod(random.sample(full_set, nvar))\n",
    "        ind2 = set_mod(random.sample(full_set, nvar))\n",
    "        return ind1, ind2\n",
    "\n",
    "    def mutSet(individual):\n",
    "        \"\"\"Mutation that randomly removes and item and randomly adds an item.\n",
    "        \"\"\"\n",
    "        temp_set = set_mod(random.sample(individual, nvar-1))\n",
    "        set_to_choose = np.array(list(temp_set ^ total_set))\n",
    "        new = random.choice(set_to_choose)\n",
    "        temp_set.add(new)\n",
    "        return temp_set,\n",
    "\n",
    "    toolbox = base.Toolbox()\n",
    "\n",
    "    # set up the population\n",
    "    toolbox.register(\"individual\", random_samp, nvar)\n",
    "    toolbox.register(\"population\", tools.initRepeat, list, toolbox.individual)\n",
    "\n",
    "    # set up the GA functions\n",
    "    toolbox.register(\"evaluate\", evaluation)\n",
    "    toolbox.register(\"mate\", cxSet)\n",
    "    toolbox.register(\"mutate\", mutSet)\n",
    "    # toolbox.register(\"select\", tools.selNSGA2)\n",
    "    toolbox.register(\"select\", tools.selTournament, tournsize=tournsize)\n",
    "\n",
    "    # initialize the population\n",
    "    pop = toolbox.population(n=mu)\n",
    "    hof = tools.ParetoFront()\n",
    "    stats = tools.Statistics(lambda ind: ind.fitness.values)\n",
    "    stats.register(\"avg\", np.mean, axis=0)\n",
    "    stats.register(\"std\", np.std, axis=0)\n",
    "    stats.register(\"min\", np.min, axis=0)\n",
    "    stats.register(\"max\", np.max, axis=0)\n",
    "    # run the GA\n",
    "    algorithms.eaMuPlusLambda(pop, toolbox, mu, lam, cxpb, mutpb, ngen, stats,\n",
    "                              halloffame=hof, verbose=verbose)\n",
    "    return pop, hof, stats"
   ]
  },
  {
   "cell_type": "code",
   "execution_count": 8,
   "metadata": {
    "ExecuteTime": {
     "end_time": "2019-08-26T17:16:51.259058Z",
     "start_time": "2019-08-26T17:16:49.675128Z"
    }
   },
   "outputs": [
    {
     "name": "stdout",
     "output_type": "stream",
     "text": [
      "run time fitfast: 0.03260636329650879 (s)\n",
      "ssr: 38.988008479001294\n",
      "run time ga: 1.536201000213623 (s)\n",
      "ssr: 38.98802716435883\n",
      "[ 0.          2.72727273 10.        ]\n"
     ]
    }
   ],
   "source": [
    "# import our libraries\n",
    "import numpy as np\n",
    "import matplotlib.pyplot as plt\n",
    "import pwlf\n",
    "from time import time\n",
    "\n",
    "# generate sin wave data\n",
    "n = 100\n",
    "x = np.linspace(0, 10, num=n)\n",
    "y = np.sin(x * np.pi / 2)\n",
    "# add noise to the data\n",
    "y = np.random.normal(0, 0.05, n) + y\n",
    "\n",
    "# initialize piecewise linear fit with your x and y data\n",
    "my_pwlf = pwlf.PiecewiseLinFit(x, y)\n",
    "\n",
    "number_of_line_segments = 2\n",
    "t0 = time()\n",
    "res0 = my_pwlf.fitfast(number_of_line_segments)\n",
    "t1 = time()\n",
    "print('run time fitfast:', t1-t0, '(s)')\n",
    "print('ssr:', my_pwlf.ssr)\n",
    "\n",
    "t2 = time()\n",
    "my_pwlf.use_custom_opt(number_of_line_segments)\n",
    "total_set = set(my_pwlf.x_data)\n",
    "total_set.remove(x.min())\n",
    "total_set.remove(x.max())\n",
    "pop, hof, stats = genetic_algorithm(total_set, my_pwlf.nVar,\n",
    "                                         my_pwlf.fit_with_breaks_opt, ngen=20,\n",
    "                                         mu=125, lam=250, cxpb=0.7, mutpb=0.2,\n",
    "                                         tournsize=5, verbose=False)\n",
    "ssr = my_pwlf.fit_with_breaks_opt(list(hof[0]))\n",
    "t3 = time()\n",
    "print('run time ga:', t3-t2, '(s)')\n",
    "print('ssr:', ssr)\n",
    "\n",
    "print(my_pwlf.fit_breaks)"
   ]
  }
 ],
 "metadata": {
  "kernelspec": {
   "display_name": "Python 3",
   "language": "python",
   "name": "python3"
  },
  "language_info": {
   "codemirror_mode": {
    "name": "ipython",
    "version": 3
   },
   "file_extension": ".py",
   "mimetype": "text/x-python",
   "name": "python",
   "nbconvert_exporter": "python",
   "pygments_lexer": "ipython3",
   "version": "3.7.4"
  },
  "varInspector": {
   "cols": {
    "lenName": 16,
    "lenType": 16,
    "lenVar": 40
   },
   "kernels_config": {
    "python": {
     "delete_cmd_postfix": "",
     "delete_cmd_prefix": "del ",
     "library": "var_list.py",
     "varRefreshCmd": "print(var_dic_list())"
    },
    "r": {
     "delete_cmd_postfix": ") ",
     "delete_cmd_prefix": "rm(",
     "library": "var_list.r",
     "varRefreshCmd": "cat(var_dic_list()) "
    }
   },
   "types_to_exclude": [
    "module",
    "function",
    "builtin_function_or_method",
    "instance",
    "_Feature"
   ],
   "window_display": false
  }
 },
 "nbformat": 4,
 "nbformat_minor": 2
}
